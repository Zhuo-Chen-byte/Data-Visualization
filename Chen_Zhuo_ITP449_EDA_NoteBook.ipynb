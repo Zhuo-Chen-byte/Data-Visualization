{
  "nbformat": 4,
  "nbformat_minor": 0,
  "metadata": {
    "colab": {
      "name": "Chen_Zhuo_ITP449 EDA NoteBook.ipynb",
      "provenance": []
    },
    "kernelspec": {
      "name": "python3",
      "display_name": "Python 3"
    }
  },
  "cells": [
    {
      "cell_type": "markdown",
      "metadata": {
        "id": "aw-xUY9cIjky"
      },
      "source": [
        "#**Part 1: Importing appropriate packages and the data set**\n",
        "Every data analysis project starts with importing packages and data set, after which a data wrangling process should be performed to make the set good enough to examine. Below come these steps.\n"
      ]
    },
    {
      "cell_type": "code",
      "metadata": {
        "id": "nX6N5-6F9n7S"
      },
      "source": [
        "# Import necessary packages\n",
        "import pandas as pd\n",
        "import numpy as np\n",
        "import matplotlib.pyplot as plt\n",
        "from matplotlib.patches import Rectangle\n",
        "%matplotlib inline\n",
        "import io\n",
        "from google.colab import files"
      ],
      "execution_count": null,
      "outputs": []
    },
    {
      "cell_type": "code",
      "metadata": {
        "id": "Ky2lK1IXFDnJ"
      },
      "source": [
        "# Upload the file to the dock\n",
        "uploaded = files.upload()"
      ],
      "execution_count": null,
      "outputs": []
    },
    {
      "cell_type": "code",
      "metadata": {
        "id": "PgVHhzsmF5xO",
        "colab": {
          "base_uri": "https://localhost:8080/",
          "height": 326
        },
        "outputId": "9b5b94c4-4568-4b91-aeb2-669b0d9fbf5a"
      },
      "source": [
        "# Explore the selected data set somewhat before raising corresponding questions\n",
        "df = pd.read_csv(io.BytesIO(uploaded['Data.csv'])) \n",
        "df.head(5)"
      ],
      "execution_count": null,
      "outputs": [
        {
          "output_type": "execute_result",
          "data": {
            "text/html": [
              "<div>\n",
              "<style scoped>\n",
              "    .dataframe tbody tr th:only-of-type {\n",
              "        vertical-align: middle;\n",
              "    }\n",
              "\n",
              "    .dataframe tbody tr th {\n",
              "        vertical-align: top;\n",
              "    }\n",
              "\n",
              "    .dataframe thead th {\n",
              "        text-align: right;\n",
              "    }\n",
              "</style>\n",
              "<table border=\"1\" class=\"dataframe\">\n",
              "  <thead>\n",
              "    <tr style=\"text-align: right;\">\n",
              "      <th></th>\n",
              "      <th>PatientId</th>\n",
              "      <th>AppointmentID</th>\n",
              "      <th>Gender</th>\n",
              "      <th>ScheduledDay</th>\n",
              "      <th>AppointmentDay</th>\n",
              "      <th>Age</th>\n",
              "      <th>Neighbourhood</th>\n",
              "      <th>Scholarship</th>\n",
              "      <th>Hipertension</th>\n",
              "      <th>Diabetes</th>\n",
              "      <th>Alcoholism</th>\n",
              "      <th>Handcap</th>\n",
              "      <th>SMS_received</th>\n",
              "      <th>No-show</th>\n",
              "    </tr>\n",
              "  </thead>\n",
              "  <tbody>\n",
              "    <tr>\n",
              "      <th>0</th>\n",
              "      <td>2.987250e+13</td>\n",
              "      <td>5642903</td>\n",
              "      <td>F</td>\n",
              "      <td>2016-04-29T18:38:08Z</td>\n",
              "      <td>2016-04-29T00:00:00Z</td>\n",
              "      <td>62</td>\n",
              "      <td>JARDIM DA PENHA</td>\n",
              "      <td>0</td>\n",
              "      <td>1</td>\n",
              "      <td>0</td>\n",
              "      <td>0</td>\n",
              "      <td>0</td>\n",
              "      <td>0</td>\n",
              "      <td>No</td>\n",
              "    </tr>\n",
              "    <tr>\n",
              "      <th>1</th>\n",
              "      <td>5.589978e+14</td>\n",
              "      <td>5642503</td>\n",
              "      <td>M</td>\n",
              "      <td>2016-04-29T16:08:27Z</td>\n",
              "      <td>2016-04-29T00:00:00Z</td>\n",
              "      <td>56</td>\n",
              "      <td>JARDIM DA PENHA</td>\n",
              "      <td>0</td>\n",
              "      <td>0</td>\n",
              "      <td>0</td>\n",
              "      <td>0</td>\n",
              "      <td>0</td>\n",
              "      <td>0</td>\n",
              "      <td>No</td>\n",
              "    </tr>\n",
              "    <tr>\n",
              "      <th>2</th>\n",
              "      <td>4.262962e+12</td>\n",
              "      <td>5642549</td>\n",
              "      <td>F</td>\n",
              "      <td>2016-04-29T16:19:04Z</td>\n",
              "      <td>2016-04-29T00:00:00Z</td>\n",
              "      <td>62</td>\n",
              "      <td>MATA DA PRAIA</td>\n",
              "      <td>0</td>\n",
              "      <td>0</td>\n",
              "      <td>0</td>\n",
              "      <td>0</td>\n",
              "      <td>0</td>\n",
              "      <td>0</td>\n",
              "      <td>No</td>\n",
              "    </tr>\n",
              "    <tr>\n",
              "      <th>3</th>\n",
              "      <td>8.679512e+11</td>\n",
              "      <td>5642828</td>\n",
              "      <td>F</td>\n",
              "      <td>2016-04-29T17:29:31Z</td>\n",
              "      <td>2016-04-29T00:00:00Z</td>\n",
              "      <td>8</td>\n",
              "      <td>PONTAL DE CAMBURI</td>\n",
              "      <td>0</td>\n",
              "      <td>0</td>\n",
              "      <td>0</td>\n",
              "      <td>0</td>\n",
              "      <td>0</td>\n",
              "      <td>0</td>\n",
              "      <td>No</td>\n",
              "    </tr>\n",
              "    <tr>\n",
              "      <th>4</th>\n",
              "      <td>8.841186e+12</td>\n",
              "      <td>5642494</td>\n",
              "      <td>F</td>\n",
              "      <td>2016-04-29T16:07:23Z</td>\n",
              "      <td>2016-04-29T00:00:00Z</td>\n",
              "      <td>56</td>\n",
              "      <td>JARDIM DA PENHA</td>\n",
              "      <td>0</td>\n",
              "      <td>1</td>\n",
              "      <td>1</td>\n",
              "      <td>0</td>\n",
              "      <td>0</td>\n",
              "      <td>0</td>\n",
              "      <td>No</td>\n",
              "    </tr>\n",
              "  </tbody>\n",
              "</table>\n",
              "</div>"
            ],
            "text/plain": [
              "      PatientId  AppointmentID Gender  ... Handcap SMS_received  No-show\n",
              "0  2.987250e+13        5642903      F  ...       0            0       No\n",
              "1  5.589978e+14        5642503      M  ...       0            0       No\n",
              "2  4.262962e+12        5642549      F  ...       0            0       No\n",
              "3  8.679512e+11        5642828      F  ...       0            0       No\n",
              "4  8.841186e+12        5642494      F  ...       0            0       No\n",
              "\n",
              "[5 rows x 14 columns]"
            ]
          },
          "metadata": {
            "tags": []
          },
          "execution_count": 7
        }
      ]
    },
    {
      "cell_type": "code",
      "metadata": {
        "id": "M8l3c8C1LeGN"
      },
      "source": [
        "# Now let's look at some detail of the data set\n",
        "# The column number and non-null number are all 110527 - implying that there are\n",
        "# no NaN entries in this data set\n",
        "df.info()\n",
        "df.shape"
      ],
      "execution_count": null,
      "outputs": []
    },
    {
      "cell_type": "code",
      "metadata": {
        "id": "FOnR1VSFOdyL"
      },
      "source": [
        "# Clean up duplicate columns - 0 implies that we have removed all the duplicates\n",
        "df.drop_duplicates()\n",
        "sum(df.duplicated())"
      ],
      "execution_count": null,
      "outputs": []
    },
    {
      "cell_type": "markdown",
      "metadata": {
        "id": "I-E3HVLUH83M"
      },
      "source": [
        "#**Part 2: Raising questions and investigating**\n",
        "Now - after taking a glimpse of and cleaning the data set - it's time to raise a few topics that help us learn this set more thoroughly. Based on the data types stored in this set, I have raised these following questions: \n",
        "\n",
        "1.   the relationship between \"Gender\" and \"No-show\"\n",
        "2.   the relationship between \"AppointmentDay\" and \"No-show\" \n",
        "3.   the relationship between \"Age\" and \"No-show\"\n",
        "4.   the relationship between \"Neighbourhood\" and \"No-show\"\n",
        "5.   the relationship between \"Age\" and \"Gender\" with \"Alcoholism\" and \"Hipertension\"\n",
        "\n",
        "And now let's begin!"
      ]
    },
    {
      "cell_type": "markdown",
      "metadata": {
        "id": "XA2G2pLEaL2m"
      },
      "source": [
        "###2.1 the relationship between \"Gender\" and \"No-show\"###"
      ]
    },
    {
      "cell_type": "code",
      "metadata": {
        "id": "Ae_iDv2qcCj0"
      },
      "source": [
        "# First, let's take a look at how gender distributes -- and as we can see, \n",
        "# the number of females is nearly twice as that of males\n",
        "genders = df.Gender.unique()\n",
        "genderDistributionPlot = plt.hist([df.loc[df.Gender == x, 'Gender'] for x in genders], label = genders, bins = 1)\n",
        "plt.xlabel('Gender')\n",
        "plt.ylabel('The number of People', rotation = 90)\n",
        "plt.legend(genders, loc='upper right');\n",
        "plt.title('Gender Distribution')"
      ],
      "execution_count": null,
      "outputs": []
    },
    {
      "cell_type": "code",
      "metadata": {
        "id": "dtDBkczn5xvV"
      },
      "source": [
        "# Then, let's split the data set into two groups, one of which contains only man\n",
        "# while another contains only woman, and see the No-show condition of each set\n",
        "df_females = df[df['Gender'] == 'F']\n",
        "df_males = df[df['Gender'] == 'M']\n",
        "NoShow = df['No-show'].unique()"
      ],
      "execution_count": null,
      "outputs": []
    },
    {
      "cell_type": "code",
      "metadata": {
        "id": "RNBch-dHiHPV"
      },
      "source": [
        "# Take a look at the No-show condition of woman's group - as we can see, the number\n",
        "# of women that does not show up (whose No-show status is 'No') is nearly four times\n",
        "# the number of women that does show up\n",
        "femaleNoShowCondition = plt.hist([df_females.loc[df_females['No-show'] == x, 'No-show'] for x in NoShow], label = NoShow, bins = 1)\n",
        "plt.xlabel('No-show')\n",
        "plt.ylabel('The number of females', rotation = 90)\n",
        "plt.legend(NoShow, loc='upper right');\n",
        "plt.title(\"Whether a female shows up in a appointment\")"
      ],
      "execution_count": null,
      "outputs": []
    },
    {
      "cell_type": "code",
      "metadata": {
        "id": "UqPzxZmYiraL"
      },
      "source": [
        "# Then take a look at the No-show condition of man's group - as we can see, the number\n",
        "# of men that does not show up (whose No-show status is 'No') is also nearly four times\n",
        "# the number of men that does show up -- compared with the plot of females above, \n",
        "# we can say that 'Gender' does not have strong correlation with 'No-show'\n",
        "maleNoShowCondition = plt.hist([df_males.loc[df_males['No-show'] == x, 'No-show'] for x in NoShow], label = NoShow, bins = 1)\n",
        "plt.xlabel('No-show')\n",
        "plt.ylabel('The number of males', rotation = 90)\n",
        "plt.legend(NoShow, loc='upper right');\n",
        "plt.title(\"Whether a male shows up in a appointment\")"
      ],
      "execution_count": null,
      "outputs": []
    },
    {
      "cell_type": "markdown",
      "metadata": {
        "id": "u1EsSN5ha7pr"
      },
      "source": [
        "###2.2 the relationship between \"AppointmentDay\" and \"No-show\"###"
      ]
    },
    {
      "cell_type": "code",
      "metadata": {
        "id": "TirbwqDMtYXn"
      },
      "source": [
        "# Now, before examing the relationship between \"AppointmentDay\" and \"No-show\",\n",
        "# let's first take a look at the distribution of appointment day in the data set\n",
        "appointmentDayDistributionPlot = df['AppointmentDay'].hist(figsize = (200, 200), bins = 50)\n",
        "appointmentDayDistributionPlot.set_xlabel('AppointmentDay', fontsize = 100, labelpad = 30)\n",
        "appointmentDayDistributionPlot.set_ylabel('The number of people appointed', rotation = 90, fontsize = 100, labelpad = 220)\n",
        "plt.xticks(fontsize = 80, rotation = 45, ha = 'right')\n",
        "plt.yticks(fontsize = 80)\n",
        "appointmentDayDistributionPlot.set_title('The number of people appointed on each day from 2016/04/29 to 2016/06/08')"
      ],
      "execution_count": null,
      "outputs": []
    },
    {
      "cell_type": "markdown",
      "metadata": {
        "id": "emnnbR3Cx2w7"
      },
      "source": [
        "As we can see, except for some exceptional days (e.g. 2016-05-14, the number of people appointed did not vary a lot across different days)"
      ]
    },
    {
      "cell_type": "code",
      "metadata": {
        "id": "Bj7KkpJxu97g"
      },
      "source": [
        "# Now, let's examine the relationship between \"AppointmentDay\" and \"No-show\" by identifying\n",
        "# the average of No-show indicator (1 for Yes, 0 for No) of people appointed in different days\n",
        "# Use (0, 1) instead of (No, Yes) for graphing\n",
        "df[\"No-show\"].replace(('No', 'Yes'), (0, 1), inplace = True)\n",
        "\n",
        "# Create a appointmentDay list\n",
        "appointmentDay = ['04-29']\n",
        "\n",
        "for i in range(31):\n",
        "    if (i != 0 and i != 6 and i != 7 and i != 14 and i != 20 and i != 21 and i != 22 and \n",
        "        i != 25 and i != 26 and i != 27 and i != 28):\n",
        "        if (i < 9):\n",
        "            appointmentDay.append(\"05-0\" + str(i + 1))\n",
        "        else:\n",
        "            appointmentDay.append(\"05-\" + str(i + 1))\n",
        "            \n",
        "for i in range(8):\n",
        "    if (i != 3 and i != 4):\n",
        "            appointmentDay.append(\"06-0\" + str(i + 1))\n",
        "\n",
        "# Plot the average of No-show indicator (1 for Yes, 0 for No) of people \n",
        "# appointed in different days\n",
        "fig = plt.figure(figsize=(10, 10))\n",
        "appointmentDayWithNoShow = plt.plot(appointmentDay, df.groupby(['AppointmentDay'])['No-show'].mean())\n",
        "plt.title('he average indicator of show up or not of people appointed for each day from 2016/04/29 to 2016/06/08')\n",
        "plt.xlabel('AppointmentDate (from 2016/04/29 to 2016/06/08)')\n",
        "plt.xticks(rotation = 45)\n",
        "plt.ylabel('The average of show-up indicator (1 for Yes, 0 for No)',rotation = 90, labelpad = 20)"
      ],
      "execution_count": null,
      "outputs": []
    },
    {
      "cell_type": "markdown",
      "metadata": {
        "id": "STHResUjyoyu"
      },
      "source": [
        "As we can see, during 05/03 - 05/04, 05/13-05/18, and 05/20-05/24, people has the highest probaility of showing up in their appointment (since during these days, the average indicator of No-show is larger than other days"
      ]
    },
    {
      "cell_type": "markdown",
      "metadata": {
        "id": "aIqGgbDLa7jB"
      },
      "source": [
        "###2.3 the relationship between \"Age\" and \"No-show\"###"
      ]
    },
    {
      "cell_type": "code",
      "metadata": {
        "id": "Je6kVMQ56vlD",
        "colab": {
          "base_uri": "https://localhost:8080/"
        },
        "outputId": "972ef8a8-4bbe-44a9-babe-622d52772a96"
      },
      "source": [
        "# Let's first explore the age date\n",
        "df['Age'].describe()"
      ],
      "execution_count": null,
      "outputs": [
        {
          "output_type": "execute_result",
          "data": {
            "text/plain": [
              "count    110526.000000\n",
              "mean         37.089219\n",
              "std          23.110026\n",
              "min           0.000000\n",
              "25%          18.000000\n",
              "50%          37.000000\n",
              "75%          55.000000\n",
              "max         115.000000\n",
              "Name: Age, dtype: float64"
            ]
          },
          "metadata": {
            "tags": []
          },
          "execution_count": 31
        }
      ]
    },
    {
      "cell_type": "code",
      "metadata": {
        "id": "Jw5J_1gG6wPf",
        "colab": {
          "base_uri": "https://localhost:8080/"
        },
        "outputId": "ecab82f8-2734-449e-e5e1-d0c4f93c18a2"
      },
      "source": [
        "# Drop the person with age -1 (violating reality!!!)\n",
        "df = df[df['Age'] != -1]\n",
        "df['Age'].describe()"
      ],
      "execution_count": null,
      "outputs": [
        {
          "output_type": "execute_result",
          "data": {
            "text/plain": [
              "count    110526.000000\n",
              "mean         37.089219\n",
              "std          23.110026\n",
              "min           0.000000\n",
              "25%          18.000000\n",
              "50%          37.000000\n",
              "75%          55.000000\n",
              "max         115.000000\n",
              "Name: Age, dtype: float64"
            ]
          },
          "metadata": {
            "tags": []
          },
          "execution_count": 32
        }
      ]
    },
    {
      "cell_type": "code",
      "metadata": {
        "id": "ZWw2rCPo66Rb"
      },
      "source": [
        "# Before examing the relationship between \"Age\" and \"No-show\",\n",
        "# let's take a look at how age distributes in this data set\n",
        "AgeDistributionPlot = df['Age'].hist(figsize = (8, 8))\n",
        "AgeDistributionPlot.set_xlabel('Age')\n",
        "AgeDistributionPlot.set_ylabel('The number of people of that age')\n",
        "AgeDistributionPlot.set_title('Age distribution')"
      ],
      "execution_count": null,
      "outputs": []
    },
    {
      "cell_type": "code",
      "metadata": {
        "id": "KP0bge2AuKan"
      },
      "source": [
        "# Now, let's examine the relationship between \"Age\" and \"No-show\" by identifying \n",
        "# the average of show-up indicator (1 for Yes, 0 for No) of people of different age\n",
        "ageLabels = []\n",
        "\n",
        "for i in df.Age:\n",
        "    if i not in ageLabels:\n",
        "        ageLabels.append(i)\n",
        "        \n",
        "ageLabels.sort()\n",
        "\n",
        "fig = plt.figure(figsize=(5, 5))\n",
        "AgeWithNoShow = plt.plot(ageLabels, df.groupby(['Age'])['No-show'].mean())\n",
        "plt.title('The average of show-up indicator (1 for Yes, 0 for No) of each age')\n",
        "plt.xlabel('Age')\n",
        "plt.ylabel('The average of show-up indicator (1 for Yes, 0 for No)', rotation = 90, labelpad = 20)"
      ],
      "execution_count": null,
      "outputs": []
    },
    {
      "cell_type": "markdown",
      "metadata": {
        "id": "pxWxl9CEzkOe"
      },
      "source": [
        "As we can see, people between age 0 to 40 generally have a higher probaility of showing up (indicated by a higher No-show average) than those from other age groups"
      ]
    },
    {
      "cell_type": "code",
      "metadata": {
        "id": "Mo_1x5km51Jz"
      },
      "source": [
        "# Now, let's split the data according to the 4 age groups,\n",
        "# and examine the No-show rate correspondingly\n",
        "AgeGroup1 = df[df['Age'] <= 18]\n",
        "AgeGroup2 = df[(18 < df['Age']) & (df['Age'] <= 37)]\n",
        "AgeGroup3 = df[(37 < df['Age']) & (df['Age'] <= 55)]\n",
        "AgeGroup4 = df[(55 < df['Age']) & (df['Age'] <= 115)]"
      ],
      "execution_count": null,
      "outputs": []
    },
    {
      "cell_type": "code",
      "metadata": {
        "id": "MfIcUy4e7NC5"
      },
      "source": [
        "# Create a plots composed of four subplots, each of which takes charge of\n",
        "# one age group\n",
        "ageGroups = plt.figure(figsize = (16, 8))\n",
        "\n",
        "ax1 = ageGroups.add_subplot(2, 2, 1)\n",
        "plt.xlabel(\"Age\")\n",
        "plt.xticks(rotation = 45)\n",
        "plt.ylabel(\"The average of show-up indicator (1 for Yes, 0 for No)\", rotation = 90)\n",
        "\n",
        "ax2 = ageGroups.add_subplot(2, 2, 2)\n",
        "plt.xlabel(\"Age\")\n",
        "plt.xticks(rotation = 45)\n",
        "plt.ylabel(\"The average of show-up indicator (1 for Yes, 0 for No)\", rotation = 90)\n",
        "\n",
        "ax3 = ageGroups.add_subplot(2, 2, 3)\n",
        "plt.xlabel(\"Age\")\n",
        "plt.xticks(rotation = 45)\n",
        "plt.ylabel(\"The average of show-up indicator (1 for Yes, 0 for No)\", rotation = 90)\n",
        "\n",
        "ax4 = ageGroups.add_subplot(2, 2, 4)\n",
        "plt.xlabel(\"Age\")\n",
        "plt.xticks(rotation = 45)\n",
        "plt.ylabel(\"The average of show-up indicator (1 for Yes, 0 for No)\", rotation = 90)\n",
        "\n",
        "ageGroups.tight_layout(pad = 0)"
      ],
      "execution_count": null,
      "outputs": []
    },
    {
      "cell_type": "code",
      "metadata": {
        "id": "Eiz-Dc46gsTl"
      },
      "source": [
        "# # Now, let's identify the average of show-up indicator (1 for Yes, 0 for No) \n",
        "# of people of different age groups\n",
        "ageLabelsOfGroup1 = []\n",
        "\n",
        "for i in AgeGroup1.Age:\n",
        "    if i not in ageLabelsOfGroup1:\n",
        "        ageLabelsOfGroup1.append(i)\n",
        "        \n",
        "ageLabelsOfGroup1.sort()\n",
        "\n",
        "ageLabelsOfGroup2 = []\n",
        "\n",
        "for i in AgeGroup2.Age:\n",
        "    if i not in ageLabelsOfGroup2:\n",
        "        ageLabelsOfGroup2.append(i)\n",
        "        \n",
        "ageLabelsOfGroup2.sort()\n",
        "\n",
        "ageLabelsOfGroup3 = []\n",
        "\n",
        "for i in AgeGroup3.Age:\n",
        "    if i not in ageLabelsOfGroup3:\n",
        "        ageLabelsOfGroup3.append(i)\n",
        "        \n",
        "ageLabelsOfGroup3.sort()\n",
        "\n",
        "ageLabelsOfGroup4 = []\n",
        "\n",
        "for i in AgeGroup4.Age:\n",
        "    if i not in ageLabelsOfGroup4:\n",
        "        ageLabelsOfGroup4.append(i)\n",
        "        \n",
        "ageLabelsOfGroup4.sort()\n",
        "\n",
        "ax1.plot(ageLabelsOfGroup1, AgeGroup1.groupby(['Age'])['No-show'].mean(), color = 'b')\n",
        "ax2.plot(ageLabelsOfGroup2, AgeGroup2.groupby(['Age'])['No-show'].mean(), color = 'r')\n",
        "ax3.plot(ageLabelsOfGroup3, AgeGroup3.groupby(['Age'])['No-show'].mean(), color = 'g')\n",
        "ax4.plot(ageLabelsOfGroup4, AgeGroup4.groupby(['Age'])['No-show'].mean(), color = 'y')\n",
        "ageGroups"
      ],
      "execution_count": null,
      "outputs": []
    },
    {
      "cell_type": "markdown",
      "metadata": {
        "id": "afOhczX2GI6U"
      },
      "source": [
        "From above, we can conclude that for people between 0 to 18, one's age and his / her probaility of showing up (indicated by the average of show-up indicator) has a positive correlation with their age, while this trend reverses for people between 19 to 37. For to other age groups, there is no strong correlation between one's age and his / her probability of showing up"
      ]
    },
    {
      "cell_type": "markdown",
      "metadata": {
        "id": "NsyahMhDa7dZ"
      },
      "source": [
        "###2.4 the relationship between \"Neighbourhood\" and \"No-show\"###"
      ]
    },
    {
      "cell_type": "code",
      "metadata": {
        "id": "oT3oU5MJvliU"
      },
      "source": [
        "# Before examing the relationship between \"Neighbourhood\" and \"No-show\",\n",
        "# let's first take a look at how different neighbourhood distributes in this data set\n",
        "differentNeighbourhood = df['Neighbourhood'].hist(figsize = (200, 60), bins = 50)\n",
        "plt.xlabel('Different neighbourhood', fontsize = 100)\n",
        "plt.xticks(fontsize = 80, rotation = 45, ha = 'right')\n",
        "plt.ylabel('The number of people with that neighbourhood', fontsize = 100, rotation = 90, labelpad = 220)\n",
        "plt.yticks(fontsize = 80)\n",
        "plt.title('The distribution of different neighbourhood people had', fontsize = 100)"
      ],
      "execution_count": null,
      "outputs": []
    },
    {
      "cell_type": "code",
      "metadata": {
        "id": "qsie9oUNvniX"
      },
      "source": [
        "# Now, let's examine the relationship between \"Neighbourhood\" and \"No-show\" by identifying\n",
        "# the average of show-up indicator (1 for Yes, 0 for No) of people with different neighbourhood\n",
        "neighorboodLabels = []\n",
        "\n",
        "for i in df.Neighbourhood:\n",
        "    if i not in neighorboodLabels:\n",
        "        neighorboodLabels.append(i)\n",
        "        \n",
        "neighorboodLabels.sort()\n",
        "\n",
        "fig = plt.figure(figsize=(200, 200))\n",
        "neighbourhoodWithNoShow = plt.plot(neighorboodLabels, df.groupby(['Neighbourhood'])['No-show'].mean())\n",
        "plt.xlabel('Different neighbourhood', fontsize = 100, labelpad = 220)\n",
        "plt.xticks(fontsize = 100, rotation = 45, ha = 'right')\n",
        "plt.ylabel('The average of show-up indicator (1 for Yes, 0 for No)', fontsize = 100, rotation = 90, labelpad = 220)\n",
        "plt.yticks(fontsize = 100)\n",
        "plt.title('The average of show-up indicator (1 for Yes, 0 for No) of people with different neighbourhood', fontsize = 100)"
      ],
      "execution_count": null,
      "outputs": []
    },
    {
      "cell_type": "markdown",
      "metadata": {
        "id": "CrjtO45cAn00"
      },
      "source": [
        "As we can see from above - people with different neighborhood have different probaility of showing-up those with neighborhood SANTA MARTHA have the lowest No-show up mean, while those with SANTA have the highest\n"
      ]
    },
    {
      "cell_type": "markdown",
      "metadata": {
        "id": "lCbbzKeJzFwp"
      },
      "source": [
        "###2.5 the relationship between \"Age\" and \"Gender\" with \"Alcoholism\" and \"Hipertension\"###"
      ]
    },
    {
      "cell_type": "code",
      "metadata": {
        "id": "z9wEo9XXzR0E"
      },
      "source": [
        "# First, let's create a plots composed of four subplots, each of which measures\n",
        "# the relationship between \"Age\" with \"Alcoholism\" and \"Age\" with \"Hipertension\"\n",
        "# for both females and males correspondingly\n",
        "\n",
        "finalFig = plt.figure(figsize = (16, 8))\n",
        "\n",
        "ax1 = finalFig.add_subplot(2, 2, 1)\n",
        "plt.xlabel(\"Age\")\n",
        "plt.xticks(rotation = 45)\n",
        "plt.ylabel(\"Average Alcoholism (1 for Yes, 0 for No) for females\", rotation = 90)\n",
        "\n",
        "ax2 = finalFig.add_subplot(2, 2, 2)\n",
        "plt.xlabel(\"Age\")\n",
        "plt.xticks(rotation = 45)\n",
        "plt.ylabel(\"Average Alcoholism (1 for Yes, 0 for No) for males\", rotation = 90)\n",
        "\n",
        "ax3 = finalFig.add_subplot(2, 2, 3)\n",
        "plt.xlabel(\"Age\")\n",
        "plt.xticks(rotation = 45)\n",
        "plt.ylabel(\"Average Hipertension (1 for Yes, 0 for No) for females\", rotation = 90)\n",
        "\n",
        "ax4 = finalFig.add_subplot(2, 2, 4)\n",
        "plt.xlabel(\"Age\")\n",
        "plt.xticks(rotation = 45)\n",
        "plt.ylabel(\"Average Hipertension (1 for Yes, 0 for No) for males\", rotation = 90)\n",
        "\n",
        "plt.tight_layout()"
      ],
      "execution_count": null,
      "outputs": []
    },
    {
      "cell_type": "code",
      "metadata": {
        "id": "kFjEL6I31v7r"
      },
      "source": [
        "# Now, let's examine the relationship between \"Age\" with \"Alcoholism\" and \"Age\" with \"Hipertension\"\n",
        "# by identifying the average Alcoholism and Hipertension (1 for Yes, 0 for No) for females and males\n",
        "\n",
        "df_females = df_females[df_females['Age'] != -1]\n",
        "df_males = df_males[df_males['Age'] != -1] \n",
        "\n",
        "ageLabelsFemales = []\n",
        "\n",
        "for i in df_females.Age:\n",
        "    if i not in ageLabelsFemales:\n",
        "        ageLabelsFemales.append(i)\n",
        "        \n",
        "ageLabelsFemales.sort()\n",
        "\n",
        "ageLabelsMales = []\n",
        "\n",
        "for i in df_males.Age:\n",
        "    if i not in ageLabelsMales:\n",
        "        ageLabelsMales.append(i)\n",
        "        \n",
        "ageLabelsMales.sort()\n",
        "\n",
        "ax1.plot(ageLabelsFemales, df_females.groupby(['Age'])['Alcoholism'].mean(), color = 'b')\n",
        "ax2.plot(ageLabelsMales, df_males.groupby(['Age'])['Alcoholism'].mean(), color = 'r')\n",
        "ax3.plot(ageLabelsFemales, df_females.groupby(['Age'])['Hipertension'].mean(), color = 'g')\n",
        "ax4.plot(ageLabelsMales, df_males.groupby(['Age'])['Hipertension'].mean(), color = 'y')\n",
        "\n",
        "finalFig"
      ],
      "execution_count": null,
      "outputs": []
    },
    {
      "cell_type": "markdown",
      "metadata": {
        "id": "-z8R7mj-Pfv9"
      },
      "source": [
        "As we can see, for females between 20 to 50, alcholism becomes more popular (with a larger average) with the increase of age, while the trend reverses for those between 50 to 80; males alcholism shows a similar trend, but they in addition shows a higher tendency toward alcoholism than females. The probaility of getting hipertension increases as age increases both for males and females, implying that there might not be a strong relationship between alcoholism and hipertension"
      ]
    }
  ]
}